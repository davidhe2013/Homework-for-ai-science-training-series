{
  "cells": [
    {
      "cell_type": "markdown",
      "metadata": {
        "id": "view-in-github",
        "colab_type": "text"
      },
      "source": [
        "<a href=\"https://colab.research.google.com/github/davidhe2013/ai-science-training-series/blob/main/2022_10_6_David_He_Session_3.ipynb\" target=\"_parent\"><img src=\"https://colab.research.google.com/assets/colab-badge.svg\" alt=\"Open In Colab\"/></a>"
      ]
    },
    {
      "cell_type": "markdown",
      "id": "ef78b1fb",
      "metadata": {
        "id": "ef78b1fb"
      },
      "source": [
        "This is my homework. Here is the training results with a new structure:\n",
        "\n",
        "First conv2 with 16 filters, added 7th cov layer with 256 filters after 6th conv layer with 512 filters \n",
        "\n",
        "lr: 0.001;\n",
        "batch_size: 512;\n",
        "Epoch:100, Accuarcy: 0.9731;\n",
        "Epoch:500, Accuarcy: 0.9919."
      ]
    },
    {
      "cell_type": "code",
      "execution_count": null,
      "id": "4f5488af",
      "metadata": {
        "id": "4f5488af"
      },
      "outputs": [],
      "source": [
        "%matplotlib inline\n",
        "\n",
        "import tensorflow as tf\n",
        "\n",
        "import numpy\n",
        "import matplotlib.pyplot as plt\n",
        "import time"
      ]
    },
    {
      "cell_type": "code",
      "execution_count": null,
      "id": "f9ad053c",
      "metadata": {
        "id": "f9ad053c"
      },
      "outputs": [],
      "source": [
        "(x_train, y_train), (x_test, y_test) = tf.keras.datasets.cifar10.load_data()\n",
        "x_train = x_train.astype(numpy.float32)\n",
        "x_test  = x_test.astype(numpy.float32)\n",
        "\n",
        "x_train /= 255.\n",
        "x_test  /= 255.\n",
        "\n",
        "y_train = y_train.astype(numpy.int32)\n",
        "y_test  = y_test.astype(numpy.int32)"
      ]
    },
    {
      "cell_type": "code",
      "execution_count": null,
      "id": "2787eece",
      "metadata": {
        "id": "2787eece"
      },
      "outputs": [],
      "source": [
        "class CIFAR10Classifier(tf.keras.models.Model):\n",
        "\n",
        "    def __init__(self, activation=tf.nn.tanh):\n",
        "        tf.keras.models.Model.__init__(self)\n",
        "\n",
        "        self.conv_1 = tf.keras.layers.Conv2D(16, [3, 3], activation='relu')\n",
        "        self.conv_2 = tf.keras.layers.Conv2D(32, [3, 3], activation='relu')\n",
        "        self.conv_3 = tf.keras.layers.Conv2D(64, [3, 3], activation='relu')\n",
        "        self.conv_4 = tf.keras.layers.Conv2D(128, [3, 3], activation='relu')\n",
        "        self.conv_5 = tf.keras.layers.Conv2D(256, [3, 3], activation='relu')\n",
        "        self.conv_6 = tf.keras.layers.Conv2D(512, [3, 3], activation='relu')\n",
        "        self.conv_7 = tf.keras.layers.Conv2D(256, [3, 3], activation='relu')\n",
        "        self.pool_8 = tf.keras.layers.MaxPooling2D(pool_size=(2, 2))\n",
        "        self.drop_9 = tf.keras.layers.Dropout(0.25)\n",
        "        self.dense_10 = tf.keras.layers.Dense(128, activation='relu')\n",
        "        self.drop_11 = tf.keras.layers.Dropout(0.5)\n",
        "        self.dense_12 = tf.keras.layers.Dense(10, activation='softmax')\n",
        "\n",
        "    def call(self, inputs):\n",
        "\n",
        "        x = self.conv_1(inputs)\n",
        "        x = self.conv_2(x)\n",
        "        x = self.conv_3(x)\n",
        "        x = self.conv_4(x)\n",
        "        x = self.conv_5(x)\n",
        "        x = self.conv_6(x)\n",
        "        x = self.conv_7(x)\n",
        "        x = self.pool_8(x)\n",
        "        x = self.drop_9(x)\n",
        "        x = tf.keras.layers.Flatten()(x)\n",
        "        x = self.dense_10(x)\n",
        "        x = self.drop_11(x)\n",
        "        x = self.dense_12(x)\n",
        "\n",
        "        return x"
      ]
    },
    {
      "cell_type": "code",
      "execution_count": null,
      "id": "58a46801",
      "metadata": {
        "id": "58a46801"
      },
      "outputs": [],
      "source": [
        "def train_network_concise(_batch_size, _n_training_epochs, _lr):\n",
        "\n",
        "    cnn_model = CIFAR10Classifier()\n",
        "\n",
        "    cnn_model.compile(loss=\"sparse_categorical_crossentropy\", optimizer=\"Adam\", metrics=['accuracy'])\n",
        "    \n",
        "    history = cnn_model.fit(x_train, y_train, batch_size=_batch_size, epochs=_n_training_epochs)\n",
        "    return history, cnn_model"
      ]
    },
    {
      "cell_type": "code",
      "execution_count": null,
      "id": "aadd3b02",
      "metadata": {
        "scrolled": false,
        "id": "aadd3b02",
        "outputId": "2f3db73c-b1a4-4249-d00c-3195907d229e"
      },
      "outputs": [
        {
          "name": "stdout",
          "output_type": "stream",
          "text": [
            "Epoch 1/100\n",
            "98/98 [==============================] - 6s 57ms/step - loss: 2.0400 - accuracy: 0.2267\n",
            "Epoch 2/100\n",
            "98/98 [==============================] - 6s 57ms/step - loss: 1.6686 - accuracy: 0.3873\n",
            "Epoch 3/100\n",
            "98/98 [==============================] - 6s 57ms/step - loss: 1.4841 - accuracy: 0.4619\n",
            "Epoch 4/100\n",
            "98/98 [==============================] - 6s 57ms/step - loss: 1.3496 - accuracy: 0.5152\n",
            "Epoch 5/100\n",
            "98/98 [==============================] - 6s 58ms/step - loss: 1.2313 - accuracy: 0.5615\n",
            "Epoch 6/100\n",
            "98/98 [==============================] - 6s 57ms/step - loss: 1.1335 - accuracy: 0.5955\n",
            "Epoch 7/100\n",
            "98/98 [==============================] - 6s 57ms/step - loss: 1.0648 - accuracy: 0.6248\n",
            "Epoch 8/100\n",
            "98/98 [==============================] - 6s 57ms/step - loss: 0.9900 - accuracy: 0.6481\n",
            "Epoch 9/100\n",
            "98/98 [==============================] - 6s 57ms/step - loss: 0.9340 - accuracy: 0.6722\n",
            "Epoch 10/100\n",
            "98/98 [==============================] - 6s 57ms/step - loss: 0.9097 - accuracy: 0.6794\n",
            "Epoch 11/100\n",
            "98/98 [==============================] - 6s 57ms/step - loss: 0.8457 - accuracy: 0.7042\n",
            "Epoch 12/100\n",
            "98/98 [==============================] - 6s 57ms/step - loss: 0.8079 - accuracy: 0.7147\n",
            "Epoch 13/100\n",
            "98/98 [==============================] - 6s 57ms/step - loss: 0.7611 - accuracy: 0.7324\n",
            "Epoch 14/100\n",
            "98/98 [==============================] - 6s 57ms/step - loss: 0.7256 - accuracy: 0.7440\n",
            "Epoch 15/100\n",
            "98/98 [==============================] - 6s 57ms/step - loss: 0.6908 - accuracy: 0.7562\n",
            "Epoch 16/100\n",
            "98/98 [==============================] - 6s 57ms/step - loss: 0.6630 - accuracy: 0.7698\n",
            "Epoch 17/100\n",
            "98/98 [==============================] - 6s 57ms/step - loss: 0.6314 - accuracy: 0.7791\n",
            "Epoch 18/100\n",
            "98/98 [==============================] - 6s 57ms/step - loss: 0.6017 - accuracy: 0.7854\n",
            "Epoch 19/100\n",
            "98/98 [==============================] - 6s 57ms/step - loss: 0.5758 - accuracy: 0.7957\n",
            "Epoch 20/100\n",
            "98/98 [==============================] - 6s 58ms/step - loss: 0.5475 - accuracy: 0.8046\n",
            "Epoch 21/100\n",
            "98/98 [==============================] - 6s 57ms/step - loss: 0.5230 - accuracy: 0.8149\n",
            "Epoch 22/100\n",
            "98/98 [==============================] - 6s 57ms/step - loss: 0.5043 - accuracy: 0.8202\n",
            "Epoch 23/100\n",
            "98/98 [==============================] - 6s 57ms/step - loss: 0.4819 - accuracy: 0.8301\n",
            "Epoch 24/100\n",
            "98/98 [==============================] - 6s 57ms/step - loss: 0.4536 - accuracy: 0.8376\n",
            "Epoch 25/100\n",
            "98/98 [==============================] - 6s 57ms/step - loss: 0.4294 - accuracy: 0.8470\n",
            "Epoch 26/100\n",
            "98/98 [==============================] - 6s 57ms/step - loss: 0.4012 - accuracy: 0.8562\n",
            "Epoch 27/100\n",
            "98/98 [==============================] - 6s 57ms/step - loss: 0.3946 - accuracy: 0.8596\n",
            "Epoch 28/100\n",
            "98/98 [==============================] - 6s 57ms/step - loss: 0.3686 - accuracy: 0.8675\n",
            "Epoch 29/100\n",
            "98/98 [==============================] - 6s 57ms/step - loss: 0.3483 - accuracy: 0.8752\n",
            "Epoch 30/100\n",
            "98/98 [==============================] - 6s 57ms/step - loss: 0.3272 - accuracy: 0.8805\n",
            "Epoch 31/100\n",
            "98/98 [==============================] - 6s 57ms/step - loss: 0.3139 - accuracy: 0.8862\n",
            "Epoch 32/100\n",
            "98/98 [==============================] - 6s 57ms/step - loss: 0.3019 - accuracy: 0.8903\n",
            "Epoch 33/100\n",
            "98/98 [==============================] - 6s 57ms/step - loss: 0.2877 - accuracy: 0.8953\n",
            "Epoch 34/100\n",
            "98/98 [==============================] - 6s 57ms/step - loss: 0.2780 - accuracy: 0.9006\n",
            "Epoch 35/100\n",
            "98/98 [==============================] - 6s 57ms/step - loss: 0.2707 - accuracy: 0.9024\n",
            "Epoch 36/100\n",
            "98/98 [==============================] - 6s 57ms/step - loss: 0.2656 - accuracy: 0.9049\n",
            "Epoch 37/100\n",
            "98/98 [==============================] - 6s 57ms/step - loss: 0.2473 - accuracy: 0.9112\n",
            "Epoch 38/100\n",
            "98/98 [==============================] - 6s 57ms/step - loss: 0.2368 - accuracy: 0.9148\n",
            "Epoch 39/100\n",
            "98/98 [==============================] - 6s 57ms/step - loss: 0.2232 - accuracy: 0.9199\n",
            "Epoch 40/100\n",
            "98/98 [==============================] - 6s 57ms/step - loss: 0.2202 - accuracy: 0.9214\n",
            "Epoch 41/100\n",
            "98/98 [==============================] - 6s 57ms/step - loss: 0.1956 - accuracy: 0.9290\n",
            "Epoch 42/100\n",
            "98/98 [==============================] - 6s 57ms/step - loss: 0.1965 - accuracy: 0.9297\n",
            "Epoch 43/100\n",
            "98/98 [==============================] - 6s 57ms/step - loss: 0.1874 - accuracy: 0.9322\n",
            "Epoch 44/100\n",
            "98/98 [==============================] - 6s 57ms/step - loss: 0.1813 - accuracy: 0.9353\n",
            "Epoch 45/100\n",
            "98/98 [==============================] - 6s 57ms/step - loss: 0.1841 - accuracy: 0.9331\n",
            "Epoch 46/100\n",
            "98/98 [==============================] - 6s 57ms/step - loss: 0.1718 - accuracy: 0.9401\n",
            "Epoch 47/100\n",
            "98/98 [==============================] - 6s 57ms/step - loss: 0.1767 - accuracy: 0.9379\n",
            "Epoch 48/100\n",
            "98/98 [==============================] - 6s 57ms/step - loss: 0.1600 - accuracy: 0.9433\n",
            "Epoch 49/100\n",
            "98/98 [==============================] - 6s 57ms/step - loss: 0.1548 - accuracy: 0.9461\n",
            "Epoch 50/100\n",
            "98/98 [==============================] - 6s 57ms/step - loss: 0.1569 - accuracy: 0.9454\n",
            "Epoch 51/100\n",
            "98/98 [==============================] - 6s 57ms/step - loss: 0.1460 - accuracy: 0.9490\n",
            "Epoch 52/100\n",
            "98/98 [==============================] - 6s 57ms/step - loss: 0.1400 - accuracy: 0.9494\n",
            "Epoch 53/100\n",
            "98/98 [==============================] - 6s 57ms/step - loss: 0.1390 - accuracy: 0.9512\n",
            "Epoch 54/100\n",
            "98/98 [==============================] - 6s 57ms/step - loss: 0.1380 - accuracy: 0.9519\n",
            "Epoch 55/100\n",
            "98/98 [==============================] - 6s 58ms/step - loss: 0.1197 - accuracy: 0.9588\n",
            "Epoch 56/100\n",
            "98/98 [==============================] - 6s 57ms/step - loss: 0.1270 - accuracy: 0.9555\n",
            "Epoch 57/100\n",
            "98/98 [==============================] - 6s 57ms/step - loss: 0.1238 - accuracy: 0.9573\n",
            "Epoch 58/100\n",
            "98/98 [==============================] - 6s 57ms/step - loss: 0.1231 - accuracy: 0.9572\n",
            "Epoch 59/100\n",
            "98/98 [==============================] - 6s 57ms/step - loss: 0.1223 - accuracy: 0.9580\n",
            "Epoch 60/100\n",
            "98/98 [==============================] - 6s 57ms/step - loss: 0.1305 - accuracy: 0.9543\n",
            "Epoch 61/100\n",
            "98/98 [==============================] - 6s 57ms/step - loss: 0.1217 - accuracy: 0.9591\n",
            "Epoch 62/100\n",
            "98/98 [==============================] - 6s 57ms/step - loss: 0.1195 - accuracy: 0.9580\n",
            "Epoch 63/100\n",
            "98/98 [==============================] - 6s 57ms/step - loss: 0.1166 - accuracy: 0.9604\n",
            "Epoch 64/100\n",
            "98/98 [==============================] - 6s 57ms/step - loss: 0.1126 - accuracy: 0.9608\n",
            "Epoch 65/100\n",
            "98/98 [==============================] - 6s 57ms/step - loss: 0.1112 - accuracy: 0.9614\n",
            "Epoch 66/100\n",
            "98/98 [==============================] - 6s 57ms/step - loss: 0.1123 - accuracy: 0.9612\n",
            "Epoch 67/100\n",
            "98/98 [==============================] - 6s 57ms/step - loss: 0.1239 - accuracy: 0.9575\n",
            "Epoch 68/100\n",
            "98/98 [==============================] - 6s 57ms/step - loss: 0.0979 - accuracy: 0.9660\n",
            "Epoch 69/100\n",
            "98/98 [==============================] - 6s 57ms/step - loss: 0.1032 - accuracy: 0.9650\n",
            "Epoch 70/100\n",
            "98/98 [==============================] - 6s 57ms/step - loss: 0.1042 - accuracy: 0.9648\n",
            "Epoch 71/100\n",
            "98/98 [==============================] - 6s 57ms/step - loss: 0.0982 - accuracy: 0.9665\n",
            "Epoch 72/100\n",
            "98/98 [==============================] - 6s 57ms/step - loss: 0.0984 - accuracy: 0.9660\n",
            "Epoch 73/100\n",
            "98/98 [==============================] - 6s 57ms/step - loss: 0.1098 - accuracy: 0.9631\n",
            "Epoch 74/100\n",
            "98/98 [==============================] - 6s 57ms/step - loss: 0.1031 - accuracy: 0.9648\n",
            "Epoch 75/100\n",
            "98/98 [==============================] - 6s 57ms/step - loss: 0.0893 - accuracy: 0.9698\n",
            "Epoch 76/100\n",
            "98/98 [==============================] - 6s 57ms/step - loss: 0.0915 - accuracy: 0.9689\n",
            "Epoch 77/100\n",
            "98/98 [==============================] - 6s 57ms/step - loss: 0.0912 - accuracy: 0.9687\n",
            "Epoch 78/100\n",
            "98/98 [==============================] - 6s 57ms/step - loss: 0.0992 - accuracy: 0.9671\n",
            "Epoch 79/100\n",
            "98/98 [==============================] - 6s 57ms/step - loss: 0.1014 - accuracy: 0.9661\n",
            "Epoch 80/100\n",
            "98/98 [==============================] - 6s 57ms/step - loss: 0.0925 - accuracy: 0.9686\n",
            "Epoch 81/100\n",
            "98/98 [==============================] - 6s 57ms/step - loss: 0.0892 - accuracy: 0.9698\n",
            "Epoch 82/100\n",
            "98/98 [==============================] - 6s 57ms/step - loss: 0.0736 - accuracy: 0.9750\n",
            "Epoch 83/100\n",
            "98/98 [==============================] - 6s 57ms/step - loss: 0.1062 - accuracy: 0.9648\n",
            "Epoch 84/100\n",
            "98/98 [==============================] - 6s 57ms/step - loss: 0.0891 - accuracy: 0.9705\n",
            "Epoch 85/100\n",
            "98/98 [==============================] - 6s 57ms/step - loss: 0.0866 - accuracy: 0.9712\n",
            "Epoch 86/100\n",
            "98/98 [==============================] - 6s 57ms/step - loss: 0.0818 - accuracy: 0.9733\n",
            "Epoch 87/100\n",
            "98/98 [==============================] - 6s 57ms/step - loss: 0.0821 - accuracy: 0.9721\n",
            "Epoch 88/100\n",
            "98/98 [==============================] - 6s 57ms/step - loss: 0.0781 - accuracy: 0.9743\n",
            "Epoch 89/100\n",
            "98/98 [==============================] - 6s 57ms/step - loss: 0.0829 - accuracy: 0.9724\n",
            "Epoch 90/100\n",
            "98/98 [==============================] - 6s 57ms/step - loss: 0.0752 - accuracy: 0.9741\n",
            "Epoch 91/100\n",
            "98/98 [==============================] - 6s 57ms/step - loss: 0.0719 - accuracy: 0.9759\n",
            "Epoch 92/100\n",
            "98/98 [==============================] - 6s 57ms/step - loss: 0.0811 - accuracy: 0.9720\n",
            "Epoch 93/100\n",
            "98/98 [==============================] - 6s 57ms/step - loss: 0.0825 - accuracy: 0.9729\n",
            "Epoch 94/100\n",
            "98/98 [==============================] - 6s 57ms/step - loss: 0.0750 - accuracy: 0.9746\n",
            "Epoch 95/100\n",
            "98/98 [==============================] - 6s 57ms/step - loss: 0.0751 - accuracy: 0.9747\n",
            "Epoch 96/100\n",
            "98/98 [==============================] - 6s 57ms/step - loss: 0.0767 - accuracy: 0.9739\n",
            "Epoch 97/100\n",
            "98/98 [==============================] - 6s 57ms/step - loss: 0.0863 - accuracy: 0.9715\n",
            "Epoch 98/100\n",
            "98/98 [==============================] - 6s 57ms/step - loss: 0.0749 - accuracy: 0.9751\n",
            "Epoch 99/100\n",
            "98/98 [==============================] - 6s 57ms/step - loss: 0.0778 - accuracy: 0.9736\n",
            "Epoch 100/100\n",
            "98/98 [==============================] - 6s 57ms/step - loss: 0.0779 - accuracy: 0.9738\n"
          ]
        }
      ],
      "source": [
        "# This took 43 seconds per epoch on my laptop\n",
        "batch_size = 512\n",
        "epochs = 100\n",
        "lr = .001\n",
        "history, cnn_model = train_network_concise(batch_size, epochs, lr)"
      ]
    },
    {
      "cell_type": "markdown",
      "id": "b0d4fcb9",
      "metadata": {
        "id": "b0d4fcb9"
      },
      "source": [
        "Hyperparameters (optimizer: Adam): original structure                                Accuracy\n",
        "lr     Epoch    batch_size\n",
        "0.001  100      512                                                                  0.8916\n",
        "0.001  200      512                                                                  0.9185\n",
        "0.001  300      512                                                                  0.9251\n",
        "0.001  500      512                                                                  0.9508\n",
        "\n",
        "Hyperparameters (optimizer: RMSProp): original structure                             Accuracy\n",
        "lr     Epoch    batch_size\n",
        "0.001  100      512                                                                  0.8840\n",
        "0.001  200      512                                                                  0.8797\n",
        "0.001  300      512                                                                  0.8747\n",
        "0.001  500      512                                                                  0.8812\n",
        "\n",
        "With Structure Changed (64 filters first layer and 128 filters second layer)\n",
        "lr     Epoch    batch_size\n",
        "0.001  100      512                                                                  0.8897\n",
        "0.001  500      512                                                                  0.9504\n",
        "\n",
        "With Structure Changed (added 3rd converlution layer with 128 filters)\n",
        "lr     Epoch    batch_size\n",
        "0.001  100      512                                                                  0.9267\n",
        "0.001  500      512                                                                  0.9754\n",
        "\n",
        "With Structure Changed (first conv2 with 16 filters, added 4th converlution layer with 128 filters)\n",
        "lr     Epoch    batch_size\n",
        "0.001  100      512                                                                  0.9332\n",
        "0.001  500      512                                                                  0.9754\n",
        "\n",
        "With Structure Changed (first conv2 with 16 filters, added 5th converlution layer with 256 filters)\n",
        "lr     Epoch    batch_size\n",
        "0.001  100      512                                                                  0.9563\n",
        "0.001  500      512                                                                  0.9891\n",
        "\n",
        "With Structure Changed (first conv2 with 16 filters, added 6th converlution layer with 512 filters)\n",
        "lr     Epoch    batch_size\n",
        "0.001  100      512                                                                  0.9575\n",
        "0.001  500      512                                                                  0.9908\n",
        "\n",
        "With Structure Changed (first conv2 with 16 filters, added 7th cov layer with 256 filters after 6th conv layer with 512 filters)\n",
        "lr     Epoch    batch_size\n",
        "0.001  100      512                                                                  0.9731\n",
        "0.001  100      512                                                                  0.9919\n"
      ]
    },
    {
      "cell_type": "code",
      "execution_count": null,
      "id": "0bfe617b",
      "metadata": {
        "id": "0bfe617b",
        "outputId": "96ccff8f-0450-4736-8e5c-40ab557b9d4d"
      },
      "outputs": [
        {
          "data": {
            "image/png": "[encoded data removed]",
            "text/plain": [
              "<Figure size 360x216 with 1 Axes>"
            ]
          },
          "metadata": {
            "needs_background": "light"
          },
          "output_type": "display_data"
        },
        {
          "data": {
            "image/png": "[encoded data removed]",
            "text/plain": [
              "<Figure size 360x216 with 1 Axes>"
            ]
          },
          "metadata": {
            "needs_background": "light"
          },
          "output_type": "display_data"
        }
      ],
      "source": [
        "plt.figure(figsize=(5,3))\n",
        "plt.plot(history.epoch,history.history['loss'])\n",
        "plt.title('loss')\n",
        "\n",
        "plt.figure(figsize=(5,3))\n",
        "plt.plot(history.epoch,history.history['accuracy'])\n",
        "plt.title('accuracy');"
      ]
    },
    {
      "cell_type": "code",
      "execution_count": null,
      "id": "75e083c1",
      "metadata": {
        "id": "75e083c1",
        "outputId": "79e448e4-9c37-479c-ab42-3cddeaf509a0"
      },
      "outputs": [
        {
          "name": "stdout",
          "output_type": "stream",
          "text": [
            "313/313 - 1s - loss: 1.4965 - accuracy: 0.7618 - 841ms/epoch - 3ms/step\n",
            "accuracy: 76.18%\n",
            "CPU times: user 880 ms, sys: 110 ms, total: 990 ms\n",
            "Wall time: 1.03 s\n"
          ]
        }
      ],
      "source": [
        "%%time\n",
        "x_test_reshaped = numpy.expand_dims(x_test, -1)\n",
        "scores = cnn_model.evaluate(x_test, y_test, verbose=2)\n",
        "print(\"%s: %.2f%%\" % (cnn_model.metrics_names[1], scores[1]*100))"
      ]
    },
    {
      "cell_type": "code",
      "execution_count": null,
      "id": "23851877",
      "metadata": {
        "id": "23851877",
        "outputId": "f94c6c8e-bd96-4d06-b0bc-edd41624e334"
      },
      "outputs": [
        {
          "name": "stdout",
          "output_type": "stream",
          "text": [
            "Confusion matrix (rows: true classes; columns: predicted classes):\n",
            "\n",
            "313/313 [==============================] - 1s 2ms/step\n",
            "[[823  15  51  15  11   1   6   4  51  23]\n",
            " [ 14 925   1   3   0   1   3   0  15  38]\n",
            " [ 81   5 666  70  54  23  71  15   9   6]\n",
            " [ 33   6  76 623  57  56  91  16  19  23]\n",
            " [ 24   1  87  48 734  10  53  37   3   3]\n",
            " [ 14   4  66 236  38 565  27  39   4   7]\n",
            " [ 10   6  53  45  16   5 853   4   4   4]\n",
            " [ 46   1  57  46  59  33   6 738   1  13]\n",
            " [ 85  24  11   9   2   1   5   2 827  34]\n",
            " [ 28  72   5   6   1   2   5   3  14 864]]\n",
            "\n",
            "Classification accuracy for each class:\n",
            "\n",
            "0: 0.8230\n",
            "1: 0.9250\n",
            "2: 0.6660\n",
            "3: 0.6230\n",
            "4: 0.7340\n",
            "5: 0.5650\n",
            "6: 0.8530\n",
            "7: 0.7380\n",
            "8: 0.8270\n",
            "9: 0.8640\n"
          ]
        }
      ],
      "source": [
        "from sklearn.metrics import confusion_matrix\n",
        "\n",
        "print('Confusion matrix (rows: true classes; columns: predicted classes):'); print()\n",
        "predictions = cnn_model.predict(x_test)\n",
        "cm=confusion_matrix(y_test, numpy.argmax(predictions, axis=1), labels=list(range(10)))\n",
        "print(cm); print()\n",
        "\n",
        "print('Classification accuracy for each class:'); print()\n",
        "for i,j in enumerate(cm.diagonal()/cm.sum(axis=1)): print(\"%d: %.4f\" % (i,j))"
      ]
    },
    {
      "cell_type": "code",
      "execution_count": null,
      "id": "457f5c86",
      "metadata": {
        "id": "457f5c86"
      },
      "outputs": [],
      "source": []
    }
  ],
  "metadata": {
    "kernelspec": {
      "display_name": "conda/2022-07-01",
      "language": "python",
      "name": "conda-2022-07-01"
    },
    "language_info": {
      "codemirror_mode": {
        "name": "ipython",
        "version": 3
      },
      "file_extension": ".py",
      "mimetype": "text/x-python",
      "name": "python",
      "nbconvert_exporter": "python",
      "pygments_lexer": "ipython3",
      "version": "3.8.13"
    },
    "colab": {
      "provenance": [],
      "include_colab_link": true
    }
  },
  "nbformat": 4,
  "nbformat_minor": 5
}